{
 "metadata": {
  "language_info": {
   "codemirror_mode": {
    "name": "ipython",
    "version": 3
   },
   "file_extension": ".py",
   "mimetype": "text/x-python",
   "name": "python",
   "nbconvert_exporter": "python",
   "pygments_lexer": "ipython3",
   "version": "3.8.3-final"
  },
  "orig_nbformat": 2,
  "kernelspec": {
   "name": "python3",
   "display_name": "Python 3"
  }
 },
 "nbformat": 4,
 "nbformat_minor": 2,
 "cells": [
  {
   "cell_type": "code",
   "execution_count": 18,
   "metadata": {},
   "outputs": [],
   "source": [
    "import numpy as np\n",
    "import pandas as pd\n",
    "from multiprocessing import Pool,Manager"
   ]
  },
  {
   "cell_type": "code",
   "execution_count": 19,
   "metadata": {},
   "outputs": [],
   "source": [
    " #种类列表\n",
    "cat_list = []\n",
    "list = os.listdir('./dic') #列出文件夹下所有的目录与文件\n",
    "for l in list:\n",
    "    cat_list.append(l.split('_')[0])\n",
    "#加载 tf-idf\n",
    "tf_idf = {}\n",
    "for cat in cat_list:\n",
    "    tf_idf[cat] = np.load('./tf-idf/'+ cat + '.npy')\n",
    "#加载字典\n",
    "dic = {}\n",
    "for cat in cat_list:\n",
    "     with open('dic/'+ cat +'_dic',encoding='utf-8') as f:\n",
    "        t = eval(f.read())\n",
    "        dic[cat] = t"
   ]
  },
  {
   "cell_type": "code",
   "execution_count": 20,
   "metadata": {},
   "outputs": [],
   "source": [
    "df = pd.read_csv('./temp/temp_test.csv')"
   ]
  },
  {
   "source": [
    "with open('pv',encoding='utf-8') as f:\n",
    "    pv = eval(f.read())"
   ],
   "cell_type": "code",
   "metadata": {},
   "execution_count": 21,
   "outputs": []
  },
  {
   "cell_type": "code",
   "execution_count": 22,
   "metadata": {},
   "outputs": [],
   "source": [
    "def cal(doc,cat,dic,tf_idf,cat_list,pv):\n",
    "    m = -1\n",
    "    c = 'news'\n",
    "    for c in cat_list:\n",
    "        res = pv[c]\n",
    "        for d in doc:\n",
    "            if d != '':\n",
    "                try:\n",
    "                    i = dic[c][d]\n",
    "                    res = res * tf_idf[c][i]\n",
    "                except KeyError:\n",
    "                    pass\n",
    "        if res>m:\n",
    "            m = res\n",
    "            rc = c\n",
    "    if rc == c:\n",
    "        return True\n",
    "    else:\n",
    "        return False"
   ]
  },
  {
   "cell_type": "code",
   "execution_count": 33,
   "metadata": {},
   "outputs": [],
   "source": [
    "size = df.index.size\n",
    "right = 0\n",
    "for i in range(size):\n",
    "    s = df.iloc[i]['doc']\n",
    "    res = False\n",
    "    if isinstance(s,float):\n",
    "        size = size - 1\n",
    "    else:\n",
    "        res = cal(df.iloc[i]['doc'].split(','),df.iloc[i]['category'],dic,tf_idf,cat_list,pv)\n",
    "    if res is True:\n",
    "        right = right +1\n",
    "ratio = right / size"
   ]
  }
 ]
}