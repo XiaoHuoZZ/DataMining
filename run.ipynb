{
 "metadata": {
  "language_info": {
   "codemirror_mode": {
    "name": "ipython",
    "version": 3
   },
   "file_extension": ".py",
   "mimetype": "text/x-python",
   "name": "python",
   "nbconvert_exporter": "python",
   "pygments_lexer": "ipython3",
   "version": "3.8.3-final"
  },
  "orig_nbformat": 2,
  "kernelspec": {
   "name": "python3",
   "display_name": "Python 3"
  }
 },
 "nbformat": 4,
 "nbformat_minor": 2,
 "cells": [
  {
   "cell_type": "code",
   "execution_count": 18,
   "metadata": {},
   "outputs": [],
   "source": [
    "from multiprocessing import Process\n",
    "from multiprocessing import Pool\n",
    "from multiprocessing import Manager\n",
    "from os import write\n",
    "from os.path import join\n",
    "import time\n",
    "import random\n",
    "import csv\n",
    "from time import sleep\n",
    "import os\n",
    "import numpy as np\n",
    "import FileUtils\n",
    "import pandas as pd\n",
    "from sklearn.metrics import classification_report"
   ]
  },
  {
   "cell_type": "code",
   "execution_count": 19,
   "metadata": {},
   "outputs": [],
   "source": [
    "df = pd.read_csv('./data/train.csv')"
   ]
  },
  {
   "cell_type": "code",
   "execution_count": 20,
   "metadata": {},
   "outputs": [
    {
     "output_type": "execute_result",
     "data": {
      "text/plain": [
       "   category                 title  \\\n",
       "0     women       台湾最美胸部再次自拍　深邃乳沟   \n",
       "1     women                   范冰冰   \n",
       "2      yule        郎朗出任万宝龙文化基金会主席   \n",
       "3        it  微软并购雅虎传闻愈演愈烈　杨致远可能走人   \n",
       "4  business            广西受灾人数升至千万   \n",
       "\n",
       "                                             content  \n",
       "0                                     跳转至：Ｒ常矗１０Ｎ依此盗骄  \n",
       "1  跳转至：Ｒ常保保１５７侗冰作为国内的超级一线女明星，她的身影总是频繁的出现在各大活动上。天使...  \n",
       "2  昨天，青年钢琴家郎朗正式出任新一届万宝龙文化基金会主席。作为往届评委和获奖人代表，杨澜、小香...  \n",
       "3  【赛迪网讯】１月１１日消息，据国外媒体报道，本周四再次有传闻称，微软正在考虑是否正式提出并购...  \n",
       "4  新华网南宁１月３１日电（记者王立芳）广西壮族自治区民政厅提供的最新消息显示，目前持续冷冻天气...  "
      ],
      "text/html": "<div>\n<style scoped>\n    .dataframe tbody tr th:only-of-type {\n        vertical-align: middle;\n    }\n\n    .dataframe tbody tr th {\n        vertical-align: top;\n    }\n\n    .dataframe thead th {\n        text-align: right;\n    }\n</style>\n<table border=\"1\" class=\"dataframe\">\n  <thead>\n    <tr style=\"text-align: right;\">\n      <th></th>\n      <th>category</th>\n      <th>title</th>\n      <th>content</th>\n    </tr>\n  </thead>\n  <tbody>\n    <tr>\n      <th>0</th>\n      <td>women</td>\n      <td>台湾最美胸部再次自拍　深邃乳沟</td>\n      <td>跳转至：Ｒ常矗１０Ｎ依此盗骄</td>\n    </tr>\n    <tr>\n      <th>1</th>\n      <td>women</td>\n      <td>范冰冰</td>\n      <td>跳转至：Ｒ常保保１５７侗冰作为国内的超级一线女明星，她的身影总是频繁的出现在各大活动上。天使...</td>\n    </tr>\n    <tr>\n      <th>2</th>\n      <td>yule</td>\n      <td>郎朗出任万宝龙文化基金会主席</td>\n      <td>昨天，青年钢琴家郎朗正式出任新一届万宝龙文化基金会主席。作为往届评委和获奖人代表，杨澜、小香...</td>\n    </tr>\n    <tr>\n      <th>3</th>\n      <td>it</td>\n      <td>微软并购雅虎传闻愈演愈烈　杨致远可能走人</td>\n      <td>【赛迪网讯】１月１１日消息，据国外媒体报道，本周四再次有传闻称，微软正在考虑是否正式提出并购...</td>\n    </tr>\n    <tr>\n      <th>4</th>\n      <td>business</td>\n      <td>广西受灾人数升至千万</td>\n      <td>新华网南宁１月３１日电（记者王立芳）广西壮族自治区民政厅提供的最新消息显示，目前持续冷冻天气...</td>\n    </tr>\n  </tbody>\n</table>\n</div>"
     },
     "metadata": {},
     "execution_count": 20
    }
   ],
   "source": [
    "df.head()"
   ]
  },
  {
   "cell_type": "code",
   "execution_count": null,
   "metadata": {},
   "outputs": [],
   "source": []
  }
 ]
}